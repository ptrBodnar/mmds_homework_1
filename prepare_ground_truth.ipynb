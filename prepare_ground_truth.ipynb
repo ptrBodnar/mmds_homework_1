{
 "cells": [
  {
   "cell_type": "code",
   "execution_count": 3,
   "metadata": {
    "ExecuteTime": {
     "end_time": "2020-11-03T21:20:04.292259Z",
     "start_time": "2020-11-03T21:20:02.861904Z"
    }
   },
   "outputs": [],
   "source": [
    "import pandas as pd\n",
    "from sklearn.neighbors import NearestNeighbors\n",
    "from sklearn.feature_extraction.text import TfidfVectorizer\n",
    "from sklearn.model_selection import train_test_split\n",
    "import requests\n",
    "\n",
    "knn = NearestNeighbors()\n",
    "td_idf_vectorizer = TfidfVectorizer()"
   ]
  },
  {
   "cell_type": "markdown",
   "metadata": {},
   "source": [
    "## fdfd"
   ]
  },
  {
   "cell_type": "markdown",
   "metadata": {},
   "source": [
    "Barselona data"
   ]
  },
  {
   "cell_type": "code",
   "execution_count": 2,
   "metadata": {
    "ExecuteTime": {
     "end_time": "2020-11-03T18:43:06.689011Z",
     "start_time": "2020-11-03T18:43:06.633478Z"
    }
   },
   "outputs": [],
   "source": [
    "listings_df_pd = pd.read_csv(\"listings.csv\")\n",
    "listings_df_pd_filtered = listings_df_pd[~listings_df_pd.name.isnull()].reset_index(drop=True)\n",
    "\n",
    "train, test = train_test_split(listings_df_pd_filtered, test_size=0.2, random_state=42)\n",
    "it_idf_names = td_idf_vectorizer.fit_transform(test.name)\n",
    "\n",
    "knn.fit(X=it_idf_names)\n",
    "\n",
    "five_closest = [list(knn.kneighbors(d,6)[1][0][1:] )for d in it_idf_names]\n",
    "test['ground_truth'] = [test.iloc[d].id.to_list() for d in five_closest ]\n",
    "\n",
    "test.to_parquet(\"train_test_data/test.pkt\")\n",
    "train.to_parquet(\"train_test_data/train.pkt\")"
   ]
  },
  {
   "cell_type": "markdown",
   "metadata": {
    "ExecuteTime": {
     "end_time": "2020-11-03T18:43:11.978936Z",
     "start_time": "2020-11-03T18:43:11.966328Z"
    }
   },
   "source": [
    "wikidata"
   ]
  },
  {
   "cell_type": "code",
   "execution_count": 16,
   "metadata": {
    "ExecuteTime": {
     "end_time": "2020-11-03T21:22:40.381686Z",
     "start_time": "2020-11-03T21:22:39.964550Z"
    }
   },
   "outputs": [
    {
     "name": "stderr",
     "output_type": "stream",
     "text": [
      "<ipython-input-16-f2adfe88c784>:11: SettingWithCopyWarning: \n",
      "A value is trying to be set on a copy of a slice from a DataFrame.\n",
      "Try using .loc[row_indexer,col_indexer] = value instead\n",
      "\n",
      "See the caveats in the documentation: https://pandas.pydata.org/pandas-docs/stable/user_guide/indexing.html#returning-a-view-versus-a-copy\n",
      "  test['ground_truth'] = [test.iloc[d].id.to_list() for d in five_closest ]\n"
     ]
    }
   ],
   "source": [
    "api_wiki = \"https://wikimedia.org/api/rest_v1/metrics/pageviews/top/uk.wikisource/all-access/2019/04/all-days\"\n",
    "wiki = pd.DataFrame(requests.get(api_wiki).json()['items'][0]['articles'])\n",
    "\n",
    "wiki['id'] = wiki.index\n",
    "wiki_filtered = wiki[~wiki.Page.isnull()].reset_index(drop=True)\n",
    "\n",
    "train, test = train_test_split(wiki_filtered, test_size=0.2, random_state=42)\n",
    "it_idf_names = td_idf_vectorizer.fit_transform(test.Page)\n",
    "\n",
    "knn.fit(X=it_idf_names)\n",
    "\n",
    "five_closest = [list(knn.kneighbors(d,6)[1][0][1:] )for d in it_idf_names]\n",
    "test['ground_truth'] = [test.iloc[d].id.to_list() for d in five_closest ]\n",
    "\n",
    "test.to_parquet(\"train_test_data/wiki_test.pkt\")\n",
    "train.to_parquet(\"train_test_data/wiki_train.pkt\")"
   ]
  },
  {
   "cell_type": "code",
   "execution_count": null,
   "metadata": {},
   "outputs": [],
   "source": []
  }
 ],
 "metadata": {
  "kernelspec": {
   "display_name": "Python 3",
   "language": "python",
   "name": "python3"
  },
  "language_info": {
   "codemirror_mode": {
    "name": "ipython",
    "version": 3
   },
   "file_extension": ".py",
   "mimetype": "text/x-python",
   "name": "python",
   "nbconvert_exporter": "python",
   "pygments_lexer": "ipython3",
   "version": "3.8.5"
  },
  "toc": {
   "base_numbering": 1,
   "nav_menu": {},
   "number_sections": true,
   "sideBar": true,
   "skip_h1_title": false,
   "title_cell": "Table of Contents",
   "title_sidebar": "Contents",
   "toc_cell": false,
   "toc_position": {},
   "toc_section_display": true,
   "toc_window_display": false
  }
 },
 "nbformat": 4,
 "nbformat_minor": 4
}
