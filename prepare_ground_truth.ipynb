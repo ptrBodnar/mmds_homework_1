{
 "cells": [
  {
   "cell_type": "code",
   "execution_count": 1,
   "metadata": {
    "ExecuteTime": {
     "end_time": "2020-11-03T18:43:06.631491Z",
     "start_time": "2020-11-03T18:43:05.954478Z"
    }
   },
   "outputs": [],
   "source": [
    "import pandas as pd\n",
    "from sklearn.neighbors import NearestNeighbors\n",
    "from sklearn.feature_extraction.text import TfidfVectorizer\n",
    "from sklearn.model_selection import train_test_split\n",
    "\n",
    "knn = NearestNeighbors()\n",
    "td_idf_vectorizer = TfidfVectorizer()"
   ]
  },
  {
   "cell_type": "code",
   "execution_count": 2,
   "metadata": {
    "ExecuteTime": {
     "end_time": "2020-11-03T18:43:06.689011Z",
     "start_time": "2020-11-03T18:43:06.633478Z"
    }
   },
   "outputs": [],
   "source": [
    "listings_df_pd = pd.read_csv(\"listings.csv\")\n",
    "# listings_df_pd.to_parquet(\"listing.pkt\")\n",
    "# listings = spark.read.parquet(\"listing.pkt\")\n",
    "# listings_not_null = listings[listings.name.isNotNull()]"
   ]
  },
  {
   "cell_type": "code",
   "execution_count": 3,
   "metadata": {
    "ExecuteTime": {
     "end_time": "2020-11-03T18:43:06.702340Z",
     "start_time": "2020-11-03T18:43:06.690348Z"
    }
   },
   "outputs": [],
   "source": [
    "listings_df_pd_filtered = listings_df_pd[~listings_df_pd.name.isnull()].reset_index(drop=True)"
   ]
  },
  {
   "cell_type": "code",
   "execution_count": 4,
   "metadata": {
    "ExecuteTime": {
     "end_time": "2020-11-03T18:43:06.719709Z",
     "start_time": "2020-11-03T18:43:06.706211Z"
    }
   },
   "outputs": [],
   "source": [
    "train, test = train_test_split(listings_df_pd_filtered, test_size=0.2, random_state=42)"
   ]
  },
  {
   "cell_type": "code",
   "execution_count": 5,
   "metadata": {
    "ExecuteTime": {
     "end_time": "2020-11-03T18:43:06.775920Z",
     "start_time": "2020-11-03T18:43:06.722728Z"
    }
   },
   "outputs": [],
   "source": [
    "it_idf_names = td_idf_vectorizer.fit_transform(test.name)"
   ]
  },
  {
   "cell_type": "code",
   "execution_count": 6,
   "metadata": {
    "ExecuteTime": {
     "end_time": "2020-11-03T18:43:06.787516Z",
     "start_time": "2020-11-03T18:43:06.777436Z"
    }
   },
   "outputs": [
    {
     "data": {
      "text/plain": [
       "NearestNeighbors()"
      ]
     },
     "execution_count": 6,
     "metadata": {},
     "output_type": "execute_result"
    }
   ],
   "source": [
    "knn.fit(X=it_idf_names)"
   ]
  },
  {
   "cell_type": "code",
   "execution_count": 7,
   "metadata": {
    "ExecuteTime": {
     "end_time": "2020-11-03T18:43:10.842576Z",
     "start_time": "2020-11-03T18:43:06.888310Z"
    }
   },
   "outputs": [],
   "source": [
    "five_closest = [list(knn.kneighbors(d,6)[1][0][1:] )for d in it_idf_names]"
   ]
  },
  {
   "cell_type": "code",
   "execution_count": 8,
   "metadata": {
    "ExecuteTime": {
     "end_time": "2020-11-03T18:43:11.820962Z",
     "start_time": "2020-11-03T18:43:10.844560Z"
    },
    "scrolled": true
   },
   "outputs": [
    {
     "name": "stderr",
     "output_type": "stream",
     "text": [
      "<ipython-input-8-3e51ce16ee12>:1: SettingWithCopyWarning: \n",
      "A value is trying to be set on a copy of a slice from a DataFrame.\n",
      "Try using .loc[row_indexer,col_indexer] = value instead\n",
      "\n",
      "See the caveats in the documentation: https://pandas.pydata.org/pandas-docs/stable/user_guide/indexing.html#returning-a-view-versus-a-copy\n",
      "  test['ground_truth'] = [test.iloc[d].id.to_list() for d in five_closest ]\n"
     ]
    }
   ],
   "source": [
    "test['ground_truth'] = [test.iloc[d].id.to_list() for d in five_closest ]"
   ]
  },
  {
   "cell_type": "code",
   "execution_count": 9,
   "metadata": {
    "ExecuteTime": {
     "end_time": "2020-11-03T18:43:11.943932Z",
     "start_time": "2020-11-03T18:43:11.822428Z"
    }
   },
   "outputs": [],
   "source": [
    "test.to_parquet(\"train_test_data/test.pkt\")\n",
    "train.to_parquet(\"train_test_data/train.pkt\")"
   ]
  },
  {
   "cell_type": "code",
   "execution_count": 10,
   "metadata": {
    "ExecuteTime": {
     "end_time": "2020-11-03T18:43:11.950939Z",
     "start_time": "2020-11-03T18:43:11.947001Z"
    }
   },
   "outputs": [],
   "source": [
    "t = test.iloc[55].ground_truth"
   ]
  },
  {
   "cell_type": "code",
   "execution_count": 11,
   "metadata": {
    "ExecuteTime": {
     "end_time": "2020-11-03T18:43:11.962524Z",
     "start_time": "2020-11-03T18:43:11.955358Z"
    }
   },
   "outputs": [
    {
     "data": {
      "text/plain": [
       "'Cozy house with terrace in the centre of Barcelona'"
      ]
     },
     "execution_count": 11,
     "metadata": {},
     "output_type": "execute_result"
    }
   ],
   "source": [
    "test.iloc[55]['name']"
   ]
  },
  {
   "cell_type": "code",
   "execution_count": 12,
   "metadata": {
    "ExecuteTime": {
     "end_time": "2020-11-03T18:43:11.978936Z",
     "start_time": "2020-11-03T18:43:11.966328Z"
    }
   },
   "outputs": [
    {
     "data": {
      "text/plain": [
       "18853                      COZY house with TERRACE\n",
       "3335               Cozy Room in the centre of BCN!\n",
       "4391        Cozy apartment in the centre of Gracia\n",
       "9150                            House with terrace\n",
       "14999    Beautiful House in the heart of Barcelona\n",
       "Name: name, dtype: object"
      ]
     },
     "execution_count": 12,
     "metadata": {},
     "output_type": "execute_result"
    }
   ],
   "source": [
    "test.loc[test.id.isin(t)].name"
   ]
  },
  {
   "cell_type": "code",
   "execution_count": null,
   "metadata": {},
   "outputs": [],
   "source": []
  }
 ],
 "metadata": {
  "kernelspec": {
   "display_name": "Python 3",
   "language": "python",
   "name": "python3"
  },
  "language_info": {
   "codemirror_mode": {
    "name": "ipython",
    "version": 3
   },
   "file_extension": ".py",
   "mimetype": "text/x-python",
   "name": "python",
   "nbconvert_exporter": "python",
   "pygments_lexer": "ipython3",
   "version": "3.8.5"
  },
  "toc": {
   "base_numbering": 1,
   "nav_menu": {},
   "number_sections": true,
   "sideBar": true,
   "skip_h1_title": false,
   "title_cell": "Table of Contents",
   "title_sidebar": "Contents",
   "toc_cell": false,
   "toc_position": {},
   "toc_section_display": true,
   "toc_window_display": false
  }
 },
 "nbformat": 4,
 "nbformat_minor": 4
}
