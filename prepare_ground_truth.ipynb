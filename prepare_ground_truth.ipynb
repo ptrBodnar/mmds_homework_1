{
 "cells": [
  {
   "cell_type": "code",
   "execution_count": 3,
   "metadata": {
    "ExecuteTime": {
     "end_time": "2020-11-03T21:20:04.292259Z",
     "start_time": "2020-11-03T21:20:02.861904Z"
    }
   },
   "outputs": [],
   "source": [
    "import pandas as pd\n",
    "from sklearn.neighbors import NearestNeighbors\n",
    "from sklearn.feature_extraction.text import TfidfVectorizer\n",
    "from sklearn.model_selection import train_test_split\n",
    "import requests\n",
    "\n",
    "knn = NearestNeighbors()\n",
    "td_idf_vectorizer = TfidfVectorizer()"
   ]
  },
  {
   "cell_type": "markdown",
   "metadata": {},
   "source": [
    "## fdfd"
   ]
  },
  {
   "cell_type": "markdown",
   "metadata": {},
   "source": [
    "Barselona data"
   ]
  },
  {
   "cell_type": "code",
   "execution_count": 2,
   "metadata": {
    "ExecuteTime": {
     "end_time": "2020-11-03T18:43:06.689011Z",
     "start_time": "2020-11-03T18:43:06.633478Z"
    }
   },
   "outputs": [],
   "source": [
    "listings_df_pd = pd.read_csv(\"listings.csv\")\n",
    "listings_df_pd_filtered = listings_df_pd[~listings_df_pd.name.isnull()].reset_index(drop=True)\n",
    "\n",
    "train, test = train_test_split(listings_df_pd_filtered, test_size=0.2, random_state=42)\n",
    "it_idf_names = td_idf_vectorizer.fit_transform(test.name)\n",
    "\n",
    "knn.fit(X=it_idf_names)\n",
    "\n",
    "five_closest = [list(knn.kneighbors(d,6)[1][0][1:] )for d in it_idf_names]\n",
    "test['ground_truth'] = [test.iloc[d].id.to_list() for d in five_closest ]\n",
    "\n",
    "test.to_parquet(\"train_test_data/test.pkt\")\n",
    "train.to_parquet(\"train_test_data/train.pkt\")"
   ]
  },
  {
   "cell_type": "markdown",
   "metadata": {
    "ExecuteTime": {
     "end_time": "2020-11-03T18:43:11.978936Z",
     "start_time": "2020-11-03T18:43:11.966328Z"
    }
   },
   "source": [
    "wikidata"
   ]
  },
  {
   "cell_type": "code",
   "execution_count": 16,
   "metadata": {
    "ExecuteTime": {
     "end_time": "2020-11-03T21:22:40.381686Z",
     "start_time": "2020-11-03T21:22:39.964550Z"
    }
   },
   "outputs": [
    {
     "name": "stderr",
     "output_type": "stream",
     "text": [
      "<ipython-input-16-f2adfe88c784>:11: SettingWithCopyWarning: \n",
      "A value is trying to be set on a copy of a slice from a DataFrame.\n",
      "Try using .loc[row_indexer,col_indexer] = value instead\n",
      "\n",
      "See the caveats in the documentation: https://pandas.pydata.org/pandas-docs/stable/user_guide/indexing.html#returning-a-view-versus-a-copy\n",
      "  test['ground_truth'] = [test.iloc[d].id.to_list() for d in five_closest ]\n"
     ]
    }
   ],
   "source": [
    "api_wiki = \"https://wikimedia.org/api/rest_v1/metrics/pageviews/top/uk.wikisource/all-access/2019/04/all-days\"\n",
    "wiki = pd.DataFrame(requests.get(api_wiki).json()['items'][0]['articles'])\n",
    "\n",
    "wiki['id'] = wiki.index\n",
    "wiki_filtered = wiki[~wiki.Page.isnull()].reset_index(drop=True)\n",
    "\n",
    "train, test = train_test_split(wiki_filtered, test_size=0.2, random_state=42)\n",
    "it_idf_names = td_idf_vectorizer.fit_transform(test.Page)\n",
    "\n",
    "knn.fit(X=it_idf_names)\n",
    "\n",
    "five_closest = [list(knn.kneighbors(d,6)[1][0][1:] )for d in it_idf_names]\n",
    "test['ground_truth'] = [test.iloc[d].id.to_list() for d in five_closest ]\n",
    "\n",
    "test.to_parquet(\"train_test_data/wiki_test.pkt\")\n",
    "train.to_parquet(\"train_test_data/wiki_train.pkt\")"
   ]
  },
  {
   "cell_type": "code",
   "execution_count": 40,
   "metadata": {
    "ExecuteTime": {
     "end_time": "2020-11-03T23:16:38.855264Z",
     "start_time": "2020-11-03T23:16:38.827368Z"
    }
   },
   "outputs": [
    {
     "data": {
      "text/html": [
       "<div>\n",
       "<style scoped>\n",
       "    .dataframe tbody tr th:only-of-type {\n",
       "        vertical-align: middle;\n",
       "    }\n",
       "\n",
       "    .dataframe tbody tr th {\n",
       "        vertical-align: top;\n",
       "    }\n",
       "\n",
       "    .dataframe thead th {\n",
       "        text-align: right;\n",
       "    }\n",
       "</style>\n",
       "<table border=\"1\" class=\"dataframe\">\n",
       "  <thead>\n",
       "    <tr style=\"text-align: right;\">\n",
       "      <th></th>\n",
       "      <th>Page</th>\n",
       "      <th>Edits</th>\n",
       "      <th>Editors</th>\n",
       "      <th>Views</th>\n",
       "      <th>id</th>\n",
       "      <th>ground_truth</th>\n",
       "    </tr>\n",
       "  </thead>\n",
       "  <tbody>\n",
       "    <tr>\n",
       "      <th>575</th>\n",
       "      <td>Палеоліт</td>\n",
       "      <td>?</td>\n",
       "      <td>?</td>\n",
       "      <td>8625</td>\n",
       "      <td>575</td>\n",
       "      <td>[305, 784, 773, 370, 516]</td>\n",
       "    </tr>\n",
       "    <tr>\n",
       "      <th>259</th>\n",
       "      <td>Кличко Віталій Володимирович</td>\n",
       "      <td>?</td>\n",
       "      <td>?</td>\n",
       "      <td>12924</td>\n",
       "      <td>259</td>\n",
       "      <td>[784, 305, 380, 516, 370]</td>\n",
       "    </tr>\n",
       "    <tr>\n",
       "      <th>388</th>\n",
       "      <td>Члени речення</td>\n",
       "      <td>?</td>\n",
       "      <td>?</td>\n",
       "      <td>10440</td>\n",
       "      <td>388</td>\n",
       "      <td>[552, 296, 669, 362, 331]</td>\n",
       "    </tr>\n",
       "    <tr>\n",
       "      <th>495</th>\n",
       "      <td>Жири</td>\n",
       "      <td>?</td>\n",
       "      <td>?</td>\n",
       "      <td>9339</td>\n",
       "      <td>495</td>\n",
       "      <td>[305, 784, 773, 516, 370]</td>\n",
       "    </tr>\n",
       "    <tr>\n",
       "      <th>70</th>\n",
       "      <td>Театр корифеїв</td>\n",
       "      <td>0</td>\n",
       "      <td>0</td>\n",
       "      <td>22115</td>\n",
       "      <td>70</td>\n",
       "      <td>[331, 669, 552, 362, 296]</td>\n",
       "    </tr>\n",
       "    <tr>\n",
       "      <th>...</th>\n",
       "      <td>...</td>\n",
       "      <td>...</td>\n",
       "      <td>...</td>\n",
       "      <td>...</td>\n",
       "      <td>...</td>\n",
       "      <td>...</td>\n",
       "    </tr>\n",
       "    <tr>\n",
       "      <th>963</th>\n",
       "      <td>Біологічні ритми</td>\n",
       "      <td>?</td>\n",
       "      <td>?</td>\n",
       "      <td>6602</td>\n",
       "      <td>963</td>\n",
       "      <td>[331, 669, 552, 362, 296]</td>\n",
       "    </tr>\n",
       "    <tr>\n",
       "      <th>754</th>\n",
       "      <td>Конституційне право України</td>\n",
       "      <td>?</td>\n",
       "      <td>?</td>\n",
       "      <td>7519</td>\n",
       "      <td>754</td>\n",
       "      <td>[741, 198, 436, 394, 305]</td>\n",
       "    </tr>\n",
       "    <tr>\n",
       "      <th>774</th>\n",
       "      <td>Кров</td>\n",
       "      <td>?</td>\n",
       "      <td>?</td>\n",
       "      <td>7386</td>\n",
       "      <td>774</td>\n",
       "      <td>[305, 784, 967, 370, 516]</td>\n",
       "    </tr>\n",
       "    <tr>\n",
       "      <th>33</th>\n",
       "      <td>Клітина</td>\n",
       "      <td>0</td>\n",
       "      <td>0</td>\n",
       "      <td>33534</td>\n",
       "      <td>33</td>\n",
       "      <td>[305, 784, 967, 370, 516]</td>\n",
       "    </tr>\n",
       "    <tr>\n",
       "      <th>31</th>\n",
       "      <td>Радіо «Свобода»</td>\n",
       "      <td>0</td>\n",
       "      <td>0</td>\n",
       "      <td>33637</td>\n",
       "      <td>31</td>\n",
       "      <td>[626, 305, 784, 370, 516]</td>\n",
       "    </tr>\n",
       "  </tbody>\n",
       "</table>\n",
       "<p>194 rows × 6 columns</p>\n",
       "</div>"
      ],
      "text/plain": [
       "                             Page Edits Editors  Views   id  \\\n",
       "575                      Палеоліт     ?       ?   8625  575   \n",
       "259  Кличко Віталій Володимирович     ?       ?  12924  259   \n",
       "388                 Члени речення     ?       ?  10440  388   \n",
       "495                          Жири     ?       ?   9339  495   \n",
       "70                 Театр корифеїв     0       0  22115   70   \n",
       "..                            ...   ...     ...    ...  ...   \n",
       "963              Біологічні ритми     ?       ?   6602  963   \n",
       "754   Конституційне право України     ?       ?   7519  754   \n",
       "774                          Кров     ?       ?   7386  774   \n",
       "33                        Клітина     0       0  33534   33   \n",
       "31                Радіо «Свобода»     0       0  33637   31   \n",
       "\n",
       "                  ground_truth  \n",
       "575  [305, 784, 773, 370, 516]  \n",
       "259  [784, 305, 380, 516, 370]  \n",
       "388  [552, 296, 669, 362, 331]  \n",
       "495  [305, 784, 773, 516, 370]  \n",
       "70   [331, 669, 552, 362, 296]  \n",
       "..                         ...  \n",
       "963  [331, 669, 552, 362, 296]  \n",
       "754  [741, 198, 436, 394, 305]  \n",
       "774  [305, 784, 967, 370, 516]  \n",
       "33   [305, 784, 967, 370, 516]  \n",
       "31   [626, 305, 784, 370, 516]  \n",
       "\n",
       "[194 rows x 6 columns]"
      ]
     },
     "execution_count": 40,
     "metadata": {},
     "output_type": "execute_result"
    }
   ],
   "source": [
    "test"
   ]
  },
  {
   "cell_type": "code",
   "execution_count": null,
   "metadata": {},
   "outputs": [],
   "source": []
  }
 ],
 "metadata": {
  "kernelspec": {
   "display_name": "Python 3",
   "language": "python",
   "name": "python3"
  },
  "language_info": {
   "codemirror_mode": {
    "name": "ipython",
    "version": 3
   },
   "file_extension": ".py",
   "mimetype": "text/x-python",
   "name": "python",
   "nbconvert_exporter": "python",
   "pygments_lexer": "ipython3",
   "version": "3.8.5"
  },
  "toc": {
   "base_numbering": 1,
   "nav_menu": {},
   "number_sections": true,
   "sideBar": true,
   "skip_h1_title": false,
   "title_cell": "Table of Contents",
   "title_sidebar": "Contents",
   "toc_cell": false,
   "toc_position": {},
   "toc_section_display": true,
   "toc_window_display": false
  }
 },
 "nbformat": 4,
 "nbformat_minor": 4
}
